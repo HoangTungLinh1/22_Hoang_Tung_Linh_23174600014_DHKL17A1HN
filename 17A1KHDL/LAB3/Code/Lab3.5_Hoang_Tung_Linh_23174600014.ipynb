{
 "cells": [
  {
   "cell_type": "code",
   "execution_count": 3,
   "metadata": {},
   "outputs": [],
   "source": [
    "import pandas as pd\n",
    "\n",
    "file_path1=r\"D:\\python_nang_cao\\17A1KHDL\\LAB3\\DATA\\stocks1.csv\"\n",
    "file_path2=r\"D:\\python_nang_cao\\17A1KHDL\\LAB3\\DATA\\stocks2.csv\"\n",
    "\n",
    "read_stock2= pd.read_csv(file_path2)\n",
    "read_stock1= pd.read_csv(file_path1)\n",
    "\n",
    "stocks=pd.concat([read_stock1, read_stock2])\n"
   ]
  },
  {
   "cell_type": "code",
   "execution_count": 4,
   "metadata": {},
   "outputs": [],
   "source": [
    "multi_index= pd.MultiIndex.from_frame(stocks[['date', 'symbol']])\n",
    "\n",
    "stocks.index=multi_index"
   ]
  },
  {
   "cell_type": "code",
   "execution_count": 6,
   "metadata": {},
   "outputs": [],
   "source": [
    "gtri_TB = stocks.groupby(level=['date', 'symbol'])[['open', 'high', 'low', 'close', 'volume']].mean()\n"
   ]
  },
  {
   "cell_type": "code",
   "execution_count": 8,
   "metadata": {},
   "outputs": [],
   "source": [
    "sap_xep_du_lieu = gtri_TB.sort_index()"
   ]
  },
  {
   "cell_type": "code",
   "execution_count": 10,
   "metadata": {},
   "outputs": [
    {
     "name": "stdout",
     "output_type": "stream",
     "text": [
      "5 dòng đầu tiên của dữ liệu trung bình sau khi sắp xếp:\n",
      "                    open      high      low    close      volume\n",
      "date     symbol                                                 \n",
      "01-03-19 AAPL     174.28   175.150   172.89   174.97  25886167.0\n",
      "         AMZN    1655.13  1674.260  1651.00  1671.73   4974877.0\n",
      "         FB       162.60   163.132   161.69   162.28  11097770.0\n",
      "         GOOG    1124.90  1142.970  1124.75  1140.99   1450316.0\n",
      "         TSLA     306.94   307.130   291.90   294.79  22911375.0\n"
     ]
    }
   ],
   "source": [
    "print(\"5 dòng đầu tiên của dữ liệu trung bình sau khi sắp xếp:\")\n",
    "print(sap_xep_du_lieu.head())"
   ]
  }
 ],
 "metadata": {
  "kernelspec": {
   "display_name": "base",
   "language": "python",
   "name": "python3"
  },
  "language_info": {
   "codemirror_mode": {
    "name": "ipython",
    "version": 3
   },
   "file_extension": ".py",
   "mimetype": "text/x-python",
   "name": "python",
   "nbconvert_exporter": "python",
   "pygments_lexer": "ipython3",
   "version": "3.12.4"
  }
 },
 "nbformat": 4,
 "nbformat_minor": 2
}
