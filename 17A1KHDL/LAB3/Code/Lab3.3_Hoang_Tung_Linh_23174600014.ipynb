{
 "cells": [
  {
   "cell_type": "code",
   "execution_count": 1,
   "metadata": {},
   "outputs": [],
   "source": [
    "import pandas as pd\n",
    "\n",
    "file_path1=r\"D:\\python_nang_cao\\17A1KHDL\\LAB3\\DATA\\stocks1.csv\"\n",
    "file_path2=r\"D:\\python_nang_cao\\17A1KHDL\\LAB3\\DATA\\stocks2.csv\"\n",
    "\n",
    "read_stock2= pd.read_csv(file_path2)\n",
    "read_stock1= pd.read_csv(file_path1)"
   ]
  },
  {
   "cell_type": "code",
   "execution_count": 2,
   "metadata": {},
   "outputs": [],
   "source": [
    "stocks=pd.concat([read_stock1, read_stock2])\n"
   ]
  },
  {
   "cell_type": "code",
   "execution_count": 3,
   "metadata": {},
   "outputs": [],
   "source": [
    "gia_TB_moi_ngay=stocks.groupby('date')[['open', 'high', 'low', 'close']].mean()\n"
   ]
  },
  {
   "cell_type": "code",
   "execution_count": 4,
   "metadata": {},
   "outputs": [
    {
     "name": "stdout",
     "output_type": "stream",
     "text": [
      "5 dòng đầu tiên của giá trị trung bình mỗi ngày:\n",
      "             open       high       low    close\n",
      "date                                           \n",
      "01-03-19  684.770  692.52840  680.4460  688.952\n",
      "04-03-19  693.940  702.39200  685.1260  694.510\n",
      "05-03-19  695.664  584.92000  575.0500  695.558\n",
      "06-03-19  696.502  449.53395  443.7725  690.016\n",
      "07-03-19  689.460  691.47800  673.8600  677.494\n"
     ]
    }
   ],
   "source": [
    "print(\"5 dòng đầu tiên của giá trị trung bình mỗi ngày:\")\n",
    "print(gia_TB_moi_ngay)"
   ]
  }
 ],
 "metadata": {
  "kernelspec": {
   "display_name": "base",
   "language": "python",
   "name": "python3"
  },
  "language_info": {
   "codemirror_mode": {
    "name": "ipython",
    "version": 3
   },
   "file_extension": ".py",
   "mimetype": "text/x-python",
   "name": "python",
   "nbconvert_exporter": "python",
   "pygments_lexer": "ipython3",
   "version": "3.12.4"
  }
 },
 "nbformat": 4,
 "nbformat_minor": 2
}
