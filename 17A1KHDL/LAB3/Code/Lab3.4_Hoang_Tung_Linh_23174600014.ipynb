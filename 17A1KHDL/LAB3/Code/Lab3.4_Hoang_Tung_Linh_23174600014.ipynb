{
 "cells": [
  {
   "cell_type": "code",
   "execution_count": 4,
   "metadata": {},
   "outputs": [],
   "source": [
    "import pandas as pd\n",
    "\n",
    "file_path3=r\"D:\\python_nang_cao\\17A1KHDL\\LAB3\\DATA\\companies.csv\"\n",
    "file_path1=r\"D:\\python_nang_cao\\17A1KHDL\\LAB3\\DATA\\stocks1.csv\"\n",
    "file_path2=r\"D:\\python_nang_cao\\17A1KHDL\\LAB3\\DATA\\stocks2.csv\"\n",
    "\n",
    "read_stock2= pd.read_csv(file_path2)\n",
    "read_stock1= pd.read_csv(file_path1)\n",
    "read_companies=pd.read_csv(file_path3)\n"
   ]
  },
  {
   "cell_type": "code",
   "execution_count": 2,
   "metadata": {},
   "outputs": [
    {
     "name": "stdout",
     "output_type": "stream",
     "text": [
      "5 dòng đầu của companies:\n",
      "   name  employees headquarters_city headquarters_state\n",
      "0  AMZN     613300           Seattle                 WA\n",
      "1  GOOG      98771     Mountain View                 CA\n",
      "2  AAPL     132000         Cupertino                 CA\n",
      "3    FB      48268        Menlo Park                 CA\n",
      "4  TSLA      48016         Palo Alto                 CA\n"
     ]
    }
   ],
   "source": [
    "print(\"5 dòng đầu của companies:\")\n",
    "print(read_companies.head())"
   ]
  },
  {
   "cell_type": "code",
   "execution_count": 9,
   "metadata": {},
   "outputs": [
    {
     "name": "stdout",
     "output_type": "stream",
     "text": [
      "        date symbol     open       high      low    close    volume  name  \\\n",
      "0   01-03-19   AMZN  1655.13  1674.2600  1651.00  1671.73   4974877  AMZN   \n",
      "1   04-03-19   AMZN  1685.00  1709.4300  1674.36  1696.17   6167358  AMZN   \n",
      "2   05-03-19   AMZN  1702.95  1707.8000  1689.01  1692.43   3681522  AMZN   \n",
      "3   06-03-19   AMZN  1695.97        NaN      NaN  1668.95   3996001  AMZN   \n",
      "4   07-03-19   AMZN  1667.37  1669.7500  1620.51  1625.95   4957017  AMZN   \n",
      "5   01-03-19   AAPL   174.28   175.1500   172.89   174.97  25886167  AAPL   \n",
      "6   04-03-19   AAPL   175.69   177.7500   173.97   175.85  27436203  AAPL   \n",
      "7   05-03-19   AAPL   175.94   176.0000   174.54   175.53  19737419  AAPL   \n",
      "8   06-03-19   AAPL   174.67   175.4900   173.94   174.52  20810384  AAPL   \n",
      "9   07-03-19   AAPL   173.87   174.4400   172.02   172.50  24796374  AAPL   \n",
      "10  01-03-19   GOOG  1124.90  1142.9700  1124.75  1140.99   1450316  GOOG   \n",
      "11  04-03-19   GOOG  1146.99  1158.2800  1130.69  1147.80   1446047  GOOG   \n",
      "12  05-03-19   GOOG  1150.06        NaN      NaN  1162.03   1443174  GOOG   \n",
      "13  06-03-19   GOOG  1162.49  1167.5700  1155.49  1157.86   1099289  GOOG   \n",
      "14  07-03-19   GOOG  1155.72  1156.7600  1134.91  1143.30   1166559  GOOG   \n",
      "15  01-03-19     FB   162.60   163.1320   161.69   162.28  11097770    FB   \n",
      "16  04-03-19     FB   163.90   167.5000   163.83   167.37  18894689    FB   \n",
      "17  05-03-19     FB   167.37   171.8800   166.55   171.26  28187890    FB   \n",
      "18  06-03-19     FB   172.90   173.5700   171.27   172.51  21531723    FB   \n",
      "19  07-03-19     FB   171.50   171.7400   167.61   169.13  18306504    FB   \n",
      "20  01-03-19   TSLA   306.94   307.1300   291.90   294.79  22911375  TSLA   \n",
      "21  04-03-19   TSLA   298.12   299.0000   282.78   285.36  17096818  TSLA   \n",
      "22  05-03-19   TSLA   282.00   284.0000   270.10   276.54  18764740  TSLA   \n",
      "23  06-03-19   TSLA   276.48   281.5058   274.39   276.24  10335485  TSLA   \n",
      "24  07-03-19   TSLA   278.84   284.7000   274.25   276.59   9442483  TSLA   \n",
      "\n",
      "    employees headquarters_city headquarters_state  \n",
      "0      613300           Seattle                 WA  \n",
      "1      613300           Seattle                 WA  \n",
      "2      613300           Seattle                 WA  \n",
      "3      613300           Seattle                 WA  \n",
      "4      613300           Seattle                 WA  \n",
      "5      132000         Cupertino                 CA  \n",
      "6      132000         Cupertino                 CA  \n",
      "7      132000         Cupertino                 CA  \n",
      "8      132000         Cupertino                 CA  \n",
      "9      132000         Cupertino                 CA  \n",
      "10      98771     Mountain View                 CA  \n",
      "11      98771     Mountain View                 CA  \n",
      "12      98771     Mountain View                 CA  \n",
      "13      98771     Mountain View                 CA  \n",
      "14      98771     Mountain View                 CA  \n",
      "15      48268        Menlo Park                 CA  \n",
      "16      48268        Menlo Park                 CA  \n",
      "17      48268        Menlo Park                 CA  \n",
      "18      48268        Menlo Park                 CA  \n",
      "19      48268        Menlo Park                 CA  \n",
      "20      48016         Palo Alto                 CA  \n",
      "21      48016         Palo Alto                 CA  \n",
      "22      48016         Palo Alto                 CA  \n",
      "23      48016         Palo Alto                 CA  \n",
      "24      48016         Palo Alto                 CA  \n"
     ]
    }
   ],
   "source": [
    "stocks=pd.concat([read_stock1, read_stock2])\n",
    "\n",
    "merged_data_symbol = pd.merge(stocks, read_companies, left_on='symbol', right_on='name')\n",
    "print(merged_data_symbol)"
   ]
  },
  {
   "cell_type": "code",
   "execution_count": 10,
   "metadata": {},
   "outputs": [],
   "source": [
    "gia_dong_cua_TB_cua_moi_company=merged_data_symbol.groupby('name')['close'].mean()"
   ]
  },
  {
   "cell_type": "code",
   "execution_count": 11,
   "metadata": {},
   "outputs": [
    {
     "name": "stdout",
     "output_type": "stream",
     "text": [
      "5 dòng đầu của giá đóng cửa trung bình của mỗi công ty:\n",
      "name\n",
      "AAPL     174.674\n",
      "AMZN    1671.046\n",
      "FB       168.510\n",
      "GOOG    1150.396\n",
      "TSLA     281.904\n",
      "Name: close, dtype: float64\n"
     ]
    }
   ],
   "source": [
    "print(\"5 dòng đầu của giá đóng cửa trung bình của mỗi công ty:\")\n",
    "print(gia_dong_cua_TB_cua_moi_company.head())"
   ]
  }
 ],
 "metadata": {
  "kernelspec": {
   "display_name": "base",
   "language": "python",
   "name": "python3"
  },
  "language_info": {
   "codemirror_mode": {
    "name": "ipython",
    "version": 3
   },
   "file_extension": ".py",
   "mimetype": "text/x-python",
   "name": "python",
   "nbconvert_exporter": "python",
   "pygments_lexer": "ipython3",
   "version": "3.12.4"
  }
 },
 "nbformat": 4,
 "nbformat_minor": 2
}
