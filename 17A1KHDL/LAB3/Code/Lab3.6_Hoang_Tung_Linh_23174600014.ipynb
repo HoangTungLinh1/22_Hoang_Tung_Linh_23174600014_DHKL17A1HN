{
 "cells": [
  {
   "cell_type": "code",
   "execution_count": 2,
   "metadata": {},
   "outputs": [],
   "source": [
    "import pandas as pd\n",
    "\n",
    "file_path1=r\"D:\\python_nang_cao\\17A1KHDL\\LAB3\\DATA\\stocks1.csv\"\n",
    "file_path2=r\"D:\\python_nang_cao\\17A1KHDL\\LAB3\\DATA\\stocks2.csv\"\n",
    "\n",
    "read_stock2= pd.read_csv(file_path2)\n",
    "read_stock1= pd.read_csv(file_path1)\n",
    "\n",
    "stocks=pd.concat([read_stock1, read_stock2])"
   ]
  },
  {
   "cell_type": "code",
   "execution_count": 3,
   "metadata": {},
   "outputs": [],
   "source": [
    "pivot_table = stocks.pivot_table(values='close', index='date', columns='symbol', aggfunc='mean')\n"
   ]
  },
  {
   "cell_type": "code",
   "execution_count": 4,
   "metadata": {},
   "outputs": [],
   "source": [
    "Tong_volume_giao_dic = stocks.groupby('symbol')['volume'].sum()\n",
    "pivot_table['total_volume'] = pivot_table.columns.map(Tong_volume_giao_dic)"
   ]
  },
  {
   "cell_type": "code",
   "execution_count": 6,
   "metadata": {},
   "outputs": [],
   "source": [
    "sap_xep_pivot = pivot_table.loc[:, ['total_volume']].sort_values(by='total_volume', ascending=False)\n"
   ]
  },
  {
   "cell_type": "code",
   "execution_count": 9,
   "metadata": {},
   "outputs": [
    {
     "name": "stdout",
     "output_type": "stream",
     "text": [
      "5 mã chứng khoán có tổng volume giao dịch cao nhất:\n",
      "symbol    total_volume\n",
      "date                  \n",
      "01-03-19     118666547\n",
      "05-03-19      98018576\n",
      "07-03-19      78550901\n",
      "04-03-19      23776775\n",
      "06-03-19       6605385\n"
     ]
    }
   ],
   "source": [
    "print(\"5 mã chứng khoán có tổng volume giao dịch cao nhất:\")\n",
    "print(sap_xep_pivot[['total_volume']].head())"
   ]
  }
 ],
 "metadata": {
  "kernelspec": {
   "display_name": "base",
   "language": "python",
   "name": "python3"
  },
  "language_info": {
   "codemirror_mode": {
    "name": "ipython",
    "version": 3
   },
   "file_extension": ".py",
   "mimetype": "text/x-python",
   "name": "python",
   "nbconvert_exporter": "python",
   "pygments_lexer": "ipython3",
   "version": "3.12.4"
  }
 },
 "nbformat": 4,
 "nbformat_minor": 2
}
