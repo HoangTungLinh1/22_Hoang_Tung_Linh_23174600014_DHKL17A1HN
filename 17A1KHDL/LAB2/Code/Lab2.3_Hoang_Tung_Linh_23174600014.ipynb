{
 "cells": [
  {
   "cell_type": "code",
   "execution_count": 3,
   "metadata": {},
   "outputs": [
    {
     "data": {
      "text/plain": [
       "([94.0, 97.0, 114.0, 117.0, 117.0],\n",
       " ['Afternoon', 'Afternoon', 'Afternoon', 'Morning', 'Afternoon'])"
      ]
     },
     "execution_count": 3,
     "metadata": {},
     "output_type": "execute_result"
    }
   ],
   "source": [
    "path_1=r'D:\\python_nang_cao\\17A1KHDL\\LAB2\\DATA\\efficiency.txt'\n",
    "path_2=r'D:\\python_nang_cao\\17A1KHDL\\LAB2\\DATA\\shifts.txt'\n",
    "\n",
    "efficiency=[]\n",
    "with open(path_1, 'r') as file:\n",
    "    for line in file:\n",
    "        efficiency.append(float(line.strip()))\n",
    "\n",
    "shifts=[]\n",
    "with open(path_2, 'r') as file:\n",
    "    for line in file:\n",
    "        shifts.append(line.strip())\n",
    "\n",
    "efficiency[:5], shifts[:5]\n"
   ]
  },
  {
   "cell_type": "code",
   "execution_count": 4,
   "metadata": {},
   "outputs": [
    {
     "data": {
      "text/plain": [
       "dtype('<U9')"
      ]
     },
     "execution_count": 4,
     "metadata": {},
     "output_type": "execute_result"
    }
   ],
   "source": [
    "import numpy as np\n",
    "np_shifts=np.array(shifts)\n",
    "np_shifts.dtype"
   ]
  },
  {
   "cell_type": "code",
   "execution_count": 5,
   "metadata": {},
   "outputs": [
    {
     "data": {
      "text/plain": [
       "dtype('float64')"
      ]
     },
     "execution_count": 5,
     "metadata": {},
     "output_type": "execute_result"
    }
   ],
   "source": [
    "np_efficiency=np.array(efficiency)\n",
    "np_efficiency.dtype"
   ]
  },
  {
   "cell_type": "code",
   "execution_count": 6,
   "metadata": {},
   "outputs": [
    {
     "data": {
      "text/plain": [
       "96.8529411764706"
      ]
     },
     "execution_count": 6,
     "metadata": {},
     "output_type": "execute_result"
    }
   ],
   "source": [
    "morning_mask=np_shifts==\"Morning\"\n",
    "\n",
    "hieu_suat_morning =np_efficiency[morning_mask]\n",
    "\n",
    "hieu_suat_TB_morning=np.mean(hieu_suat_morning)\n",
    "hieu_suat_TB_morning"
   ]
  },
  {
   "cell_type": "code",
   "execution_count": 8,
   "metadata": {},
   "outputs": [
    {
     "data": {
      "text/plain": [
       "98.93939393939394"
      ]
     },
     "execution_count": 8,
     "metadata": {},
     "output_type": "execute_result"
    }
   ],
   "source": [
    "non_morning=np_shifts!='Morning'\n",
    "\n",
    "hieu_suat_non_morning=np_efficiency[non_morning]\n",
    "\n",
    "hieu_suat_TB_non_morning=np.mean(hieu_suat_non_morning)\n",
    "hieu_suat_TB_non_morning"
   ]
  },
  {
   "cell_type": "code",
   "execution_count": 10,
   "metadata": {},
   "outputs": [
    {
     "data": {
      "text/plain": [
       "array([('Afternoon',  94.), ('Afternoon',  97.), ('Afternoon', 114.),\n",
       "       ('Morning', 117.), ('Afternoon', 117.)],\n",
       "      dtype=[('shift', '<U10'), ('efficiency', '<f8')])"
      ]
     },
     "execution_count": 10,
     "metadata": {},
     "output_type": "execute_result"
    }
   ],
   "source": [
    "dtype=[('shift', 'U10'), ('efficiency', float)]\n",
    "\n",
    "workers=np.array(list(zip(shifts, efficiency)), dtype=dtype)\n",
    "\n",
    "workers[:5]"
   ]
  },
  {
   "cell_type": "code",
   "execution_count": 11,
   "metadata": {},
   "outputs": [
    {
     "name": "stdout",
     "output_type": "stream",
     "text": [
      "[('Afternoon', 50.) ('Morning', 50.) ('Night', 50.) ('Morning', 51.)\n",
      " ('Morning', 53.) ('Morning', 54.) ('Night', 55.) ('Night', 56.)\n",
      " ('Morning', 59.) ('Night', 59.)]\n"
     ]
    }
   ],
   "source": [
    "sorted_workers=np.sort(workers, order='efficiency')\n",
    "\n",
    "hieu_suat_max=sorted_workers[-1]['shift']\n",
    "hieu_suat_min=sorted_workers[0]['shift']\n",
    "\n",
    "print(sorted_workers[:10])"
   ]
  }
 ],
 "metadata": {
  "kernelspec": {
   "display_name": "base",
   "language": "python",
   "name": "python3"
  },
  "language_info": {
   "codemirror_mode": {
    "name": "ipython",
    "version": 3
   },
   "file_extension": ".py",
   "mimetype": "text/x-python",
   "name": "python",
   "nbconvert_exporter": "python",
   "pygments_lexer": "ipython3",
   "version": "3.12.4"
  }
 },
 "nbformat": 4,
 "nbformat_minor": 2
}
