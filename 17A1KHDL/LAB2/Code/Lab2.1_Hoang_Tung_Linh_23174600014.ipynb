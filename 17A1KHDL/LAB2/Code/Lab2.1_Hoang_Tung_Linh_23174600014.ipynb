{
 "cells": [
  {
   "cell_type": "code",
   "execution_count": 4,
   "metadata": {},
   "outputs": [
    {
     "name": "stdout",
     "output_type": "stream",
     "text": [
      "Nhiệt độ trong tháng: [14.59 22.73 20.43 11.58 26.9  21.14 25.57 15.64 26.22 18.3  25.27 27.95\n",
      " 22.96 22.99 17.47 11.08 15.39 16.26 28.17 22.08 21.9  11.83 13.75 15.77\n",
      " 12.75 13.43 26.1  23.74 22.   27.13]\n",
      "Nhiệt độ trung bình trong tháng:  20.037333333333333 °C\n"
     ]
    }
   ],
   "source": [
    "import numpy as np\n",
    "\n",
    "nhiet_do = np.round(np.random.uniform(10.0, 30.0, size=30), 2)\n",
    "\n",
    "\n",
    "print(\"Nhiệt độ trong tháng:\", nhiet_do)\n",
    "print(\"Nhiệt độ trung bình trong tháng: \",np.mean(nhiet_do),\"°C\")"
   ]
  },
  {
   "cell_type": "code",
   "execution_count": 5,
   "metadata": {},
   "outputs": [
    {
     "name": "stdout",
     "output_type": "stream",
     "text": [
      "Nhiệt độ ngày cao nhất trong thánh là:  28.17\n",
      "Nhiệt độ ngày thấp nhất trong thánh là:  11.08\n",
      "Ngày có nhiệt độ cao nhất là:  19\n",
      "Ngày có nhiệt độ thấp nhất là:  16\n"
     ]
    }
   ],
   "source": [
    "nhiet_do_max=np.max(nhiet_do)\n",
    "nhiet_do_min=np.min(nhiet_do)\n",
    "\n",
    "ngay_nhiet_do_max=np.argmax(nhiet_do) + 1\n",
    "ngay_nhiet_do_min=np.argmin(nhiet_do) + 1\n",
    "\n",
    "print(\"Nhiệt độ ngày cao nhất trong thánh là: \",nhiet_do_max)\n",
    "print(\"Nhiệt độ ngày thấp nhất trong thánh là: \",nhiet_do_min)\n",
    "\n",
    "print(\"Ngày có nhiệt độ cao nhất là: \", ngay_nhiet_do_max)\n",
    "print(\"Ngày có nhiệt độ thấp nhất là: \", ngay_nhiet_do_min)"
   ]
  },
  {
   "cell_type": "code",
   "execution_count": 6,
   "metadata": {},
   "outputs": [
    {
     "name": "stdout",
     "output_type": "stream",
     "text": [
      "Chênh lệch nhiệt độ cao nhất là: 15.319999999999999\n",
      "Ngày chênh lệch cao nhất là:  4\n"
     ]
    }
   ],
   "source": [
    "ngay_truoc = nhiet_do[:-1]\n",
    "ngay_sau=nhiet_do[1:]\n",
    "\n",
    "Chenh_lech=ngay_sau-ngay_truoc\n",
    "\n",
    "dff_max=np.argmax(np.abs(Chenh_lech)) + 1\n",
    "max_chenh_lech=Chenh_lech[dff_max -1]\n",
    "\n",
    "print(\"Chênh lệch nhiệt độ cao nhất là:\", max_chenh_lech)\n",
    "print(\"Ngày chênh lệch cao nhất là: \",dff_max)"
   ]
  },
  {
   "cell_type": "code",
   "execution_count": 7,
   "metadata": {},
   "outputs": [
    {
     "name": "stdout",
     "output_type": "stream",
     "text": [
      "Ngày có nhiệt độ cao hơn 20°C: [ 2  3  5  6  7  9 11 12 13 14 19 20 21 27 28 29 30]\n",
      "Nhiệt độ các ngày trên 20°C: [22.73 20.43 26.9  21.14 25.57 26.22 25.27 27.95 22.96 22.99 28.17 22.08\n",
      " 21.9  26.1  23.74 22.   27.13]\n",
      "Nhiệt độ của ngày 5, 10, 15, 20, 25: [26.9  18.3  17.47 22.08 12.75]\n",
      "Nhiệt độ của các ngày trên trung bình: [22.73 20.43 26.9  21.14 25.57 26.22 25.27 27.95 22.96 22.99 28.17 22.08\n",
      " 21.9  26.1  23.74 22.   27.13]\n",
      "Nhiệt độ các ngày chẵn: [22.73 11.58 21.14 15.64 18.3  27.95 22.99 11.08 16.26 22.08 11.83 15.77\n",
      " 13.43 23.74 27.13]\n",
      "Nhiệt độ các ngày lẻ: [14.59 20.43 26.9  25.57 26.22 25.27 22.96 17.47 15.39 28.17 21.9  13.75\n",
      " 12.75 26.1  22.  ]\n"
     ]
    }
   ],
   "source": [
    "ngay_nhiet_do_tren_20 = np.where(nhiet_do > 20)[0] + 1\n",
    "ngay_nhiet_do_duoi_20 = nhiet_do[nhiet_do > 20]\n",
    "\n",
    "cac_ngay = [5, 10, 15, 20, 25]\n",
    "nhiet_do_cac_ngay = nhiet_do[np.array(cac_ngay) - 1]\n",
    "\n",
    "nhiet_do_ngay_tren_TB = nhiet_do[nhiet_do > np.mean(nhiet_do)]\n",
    "\n",
    "nhiet_do_ngay_chan = nhiet_do[np.arange(1, 31, 2) ]  \n",
    "nhiet_do_ngay_le = nhiet_do[np.arange(0, 30, 2)]      \n",
    "\n",
    "print(\"Ngày có nhiệt độ cao hơn 20°C:\", ngay_nhiet_do_tren_20)\n",
    "print(\"Nhiệt độ các ngày trên 20°C:\", ngay_nhiet_do_duoi_20)\n",
    "print(\"Nhiệt độ của ngày 5, 10, 15, 20, 25:\", nhiet_do_cac_ngay)\n",
    "print(\"Nhiệt độ của các ngày trên trung bình:\", nhiet_do_ngay_tren_TB)\n",
    "print(\"Nhiệt độ các ngày chẵn:\", nhiet_do_ngay_chan)\n",
    "print(\"Nhiệt độ các ngày lẻ:\", nhiet_do_ngay_le)\n"
   ]
  }
 ],
 "metadata": {
  "kernelspec": {
   "display_name": "base",
   "language": "python",
   "name": "python3"
  },
  "language_info": {
   "codemirror_mode": {
    "name": "ipython",
    "version": 3
   },
   "file_extension": ".py",
   "mimetype": "text/x-python",
   "name": "python",
   "nbconvert_exporter": "python",
   "pygments_lexer": "ipython3",
   "version": "3.12.4"
  }
 },
 "nbformat": 4,
 "nbformat_minor": 2
}
