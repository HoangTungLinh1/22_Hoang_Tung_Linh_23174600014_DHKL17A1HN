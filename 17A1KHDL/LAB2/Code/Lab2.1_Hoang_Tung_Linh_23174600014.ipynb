{
 "cells": [
  {
   "cell_type": "code",
   "execution_count": 1,
   "metadata": {},
   "outputs": [
    {
     "name": "stdout",
     "output_type": "stream",
     "text": [
      "Nhiệt độ trong tháng: [21.46 26.47 29.91 25.55 12.22 20.94 22.98 26.88 21.38 11.34 13.57 12.85\n",
      " 15.97 18.67 26.31 12.33 23.12 29.81 25.77 12.63 12.23 25.67 13.27 16.05\n",
      " 17.24 13.14 23.59 18.03 24.91 22.04]\n",
      "Nhiệt độ trung bình trong tháng:  19.877666666666663 °C\n"
     ]
    }
   ],
   "source": [
    "import numpy as np\n",
    "\n",
    "nhiet_do = np.round(np.random.uniform(10.0, 30.0, size=30), 2)\n",
    "\n",
    "\n",
    "print(\"Nhiệt độ trong tháng:\", nhiet_do)\n",
    "print(\"Nhiệt độ trung bình trong tháng: \",np.mean(nhiet_do),\"°C\")"
   ]
  },
  {
   "cell_type": "code",
   "execution_count": 2,
   "metadata": {},
   "outputs": [
    {
     "name": "stdout",
     "output_type": "stream",
     "text": [
      "Nhiệt độ ngày cao nhất trong thánh là:  29.91\n",
      "Nhiệt độ ngày thấp nhất trong thánh là:  11.34\n",
      "Ngày có nhiệt độ cao nhất là:  3\n",
      "Ngày có nhiệt độ thấp nhất là:  10\n"
     ]
    }
   ],
   "source": [
    "nhiet_do_max=np.max(nhiet_do)\n",
    "nhiet_do_min=np.min(nhiet_do)\n",
    "\n",
    "ngay_nhiet_do_max=np.argmax(nhiet_do) + 1\n",
    "ngay_nhiet_do_min=np.argmin(nhiet_do) + 1\n",
    "\n",
    "print(\"Nhiệt độ ngày cao nhất trong thánh là: \",nhiet_do_max)\n",
    "print(\"Nhiệt độ ngày thấp nhất trong thánh là: \",nhiet_do_min)\n",
    "\n",
    "print(\"Ngày có nhiệt độ cao nhất là: \", ngay_nhiet_do_max)\n",
    "print(\"Ngày có nhiệt độ thấp nhất là: \", ngay_nhiet_do_min)"
   ]
  },
  {
   "cell_type": "code",
   "execution_count": 4,
   "metadata": {},
   "outputs": [
    {
     "name": "stdout",
     "output_type": "stream",
     "text": [
      "Chênh lệch nhiệt độ cao nhất là: -13.979999999999999\n",
      "Ngày chênh lệch cao nhất là:  15\n"
     ]
    }
   ],
   "source": [
    "ngay_truoc = nhiet_do[:-1]\n",
    "ngay_sau=nhiet_do[1:]\n",
    "\n",
    "Chenh_lech=ngay_sau-ngay_truoc\n",
    "\n",
    "dff_max=np.argmax(np.abs(Chenh_lech)) + 1\n",
    "max_chenh_lech=Chenh_lech[dff_max -1]\n",
    "\n",
    "print(\"Chênh lệch nhiệt độ cao nhất là:\", max_chenh_lech)\n",
    "print(\"Ngày chênh lệch cao nhất là: \",dff_max)"
   ]
  },
  {
   "cell_type": "code",
   "execution_count": 5,
   "metadata": {},
   "outputs": [
    {
     "name": "stdout",
     "output_type": "stream",
     "text": [
      "Ngày có nhiệt độ cao hơn 20°C: [ 1  2  3  4  6  7  8  9 15 17 18 19 22 27 29 30]\n",
      "Nhiệt độ các ngày trên 20°C: [21.46 26.47 29.91 25.55 20.94 22.98 26.88 21.38 26.31 23.12 29.81 25.77\n",
      " 25.67 23.59 24.91 22.04]\n",
      "Nhiệt độ của ngày 5, 10, 15, 20, 25: [12.22 11.34 26.31 12.63 17.24]\n",
      "Nhiệt độ của các ngày trên trung bình: [21.46 26.47 29.91 25.55 20.94 22.98 26.88 21.38 26.31 23.12 29.81 25.77\n",
      " 25.67 23.59 24.91 22.04]\n",
      "Nhiệt độ các ngày chẵn: [21.46 29.91 12.22 22.98 21.38 13.57 15.97 26.31 23.12 25.77 12.23 13.27\n",
      " 17.24 23.59 24.91]\n",
      "Nhiệt độ các ngày lẻ: [21.46 29.91 12.22 22.98 21.38 13.57 15.97 26.31 23.12 25.77 12.23 13.27\n",
      " 17.24 23.59 24.91]\n"
     ]
    }
   ],
   "source": [
    "ngay_nhiet_do_tren_20 = np.where(nhiet_do > 20)[0] + 1\n",
    "ngay_nhiet_do_duoi_20 = nhiet_do[nhiet_do > 20]\n",
    "\n",
    "cac_ngay = [5, 10, 15, 20, 25]\n",
    "nhiet_do_cac_ngay = nhiet_do[np.array(cac_ngay) - 1]\n",
    "\n",
    "nhiet_do_ngay_tren_TB = nhiet_do[nhiet_do > np.mean(nhiet_do)]\n",
    "\n",
    "nhiet_do_ngay_chan = nhiet_do[np.arange(1, 31, 2) - 1]  \n",
    "nhiet_do_ngay_le = nhiet_do[np.arange(0, 30, 2)]      \n",
    "\n",
    "print(\"Ngày có nhiệt độ cao hơn 20°C:\", ngay_nhiet_do_tren_20)\n",
    "print(\"Nhiệt độ các ngày trên 20°C:\", ngay_nhiet_do_duoi_20)\n",
    "print(\"Nhiệt độ của ngày 5, 10, 15, 20, 25:\", nhiet_do_cac_ngay)\n",
    "print(\"Nhiệt độ của các ngày trên trung bình:\", nhiet_do_ngay_tren_TB)\n",
    "print(\"Nhiệt độ các ngày chẵn:\", nhiet_do_ngay_chan)\n",
    "print(\"Nhiệt độ các ngày lẻ:\", nhiet_do_ngay_le)\n"
   ]
  }
 ],
 "metadata": {
  "kernelspec": {
   "display_name": "base",
   "language": "python",
   "name": "python3"
  },
  "language_info": {
   "codemirror_mode": {
    "name": "ipython",
    "version": 3
   },
   "file_extension": ".py",
   "mimetype": "text/x-python",
   "name": "python",
   "nbconvert_exporter": "python",
   "pygments_lexer": "ipython3",
   "version": "3.12.4"
  }
 },
 "nbformat": 4,
 "nbformat_minor": 2
}
