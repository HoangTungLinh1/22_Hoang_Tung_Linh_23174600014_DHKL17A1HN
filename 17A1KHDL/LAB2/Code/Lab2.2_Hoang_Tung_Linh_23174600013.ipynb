{
 "cells": [
  {
   "cell_type": "code",
   "execution_count": null,
   "metadata": {},
   "outputs": [
    {
     "data": {
      "text/plain": [
       "[[3.04, 3.39, 6.7],\n",
       " [5.8, 6.41, 6.62],\n",
       " [2.59, 3.57, 9.16],\n",
       " [3.81, 8.78, 9.24],\n",
       " [8.91, 9.64, 6.39]]"
      ]
     },
     "execution_count": 1,
     "metadata": {},
     "output_type": "execute_result"
    }
   ],
   "source": [
    "import csv\n",
    "\n",
    "file_path= r'D:\\python_nang_cao\\17A1KHDL\\LAB2\\DATA\\diem_hoc_phan.csv'\n",
    "data=[]\n",
    "with open(file_path, newline='', encoding='utf-8') as csvfile:\n",
    "    reader=csv.reader(csvfile)\n",
    "    next(reader)\n",
    "    for row in reader:\n",
    "        data.append([float(score) for score in row[2:]])\n",
    "\n",
    "data[:5]"
   ]
  },
  {
   "cell_type": "code",
   "execution_count": 2,
   "metadata": {},
   "outputs": [
    {
     "name": "stdout",
     "output_type": "stream",
     "text": [
      "[['F', 'F', 'C+'], ['C', 'F', 'C+'], ['F', 'F', 'A'], ['F', 'A', 'A'], ['A', 'A', 'F']]\n"
     ]
    }
   ],
   "source": [
    "def doi_diem(score):\n",
    "    if 8.5 <= score <= 10:\n",
    "        return 'A'\n",
    "    elif 8.0 <= score <= 8.4:\n",
    "        return 'B+'\n",
    "    elif 7.0 <= score < 8:\n",
    "        return 'B'\n",
    "    elif 6.5 <= score < 7:\n",
    "        return 'C+'\n",
    "    elif 5.5 <= score < 6:\n",
    "        return 'C'\n",
    "    elif 5.0 <= score < 5.5:\n",
    "        return 'D+'\n",
    "    elif 4.0 <= score < 5:\n",
    "        return 'D'\n",
    "    else:\n",
    "        return 'F'\n",
    "\n",
    "Diem_da_doi = [[doi_diem(score) for score in row] for row in data]\n",
    "\n",
    "print(Diem_da_doi[:5])\n"
   ]
  },
  {
   "cell_type": "code",
   "execution_count": 3,
   "metadata": {},
   "outputs": [
    {
     "name": "stdout",
     "output_type": "stream",
     "text": [
      "Điểm của học phần 1: [3.04, 5.8, 2.59, 3.81, 8.91, 3.23, 2.35, 2.48, 3.23, 7.02, 2.29, 3.51, 6.74, 9.86, 8.04, 2.74, 3.04, 5.87, 8.46, 3.74, 5.67, 8.12, 9.4, 3.91, 4.26, 4.41, 3.23, 9.25, 6.08, 3.85]\n",
      "Điểm của học phần 2: [3.39, 6.41, 3.57, 8.78, 9.64, 4.72, 3.29, 3.81, 2.61, 9.01, 4.48, 7.19, 7.78, 4.64, 5.12, 8.88, 6.88, 4.41, 2.63, 6.71, 8.05, 2.46, 5.31, 5.09, 5.78, 2.66, 8.3, 8.29, 2.67, 7.71]\n",
      "Điểm của học phần 3: [6.7, 6.62, 9.16, 9.24, 6.39, 6.17, 6.89, 4.84, 4.52, 9.15, 5.51, 5.13, 6.19, 3.33, 4.77, 5.8, 3.91, 8.84, 4.91, 3.44, 6.03, 3.87, 5.13, 8.82, 8.14, 5.4, 8.64, 9.1, 6.39, 5.75]\n"
     ]
    }
   ],
   "source": [
    "so_hp = len(data[0]) \n",
    "diem_hp = [[] for _ in range(so_hp)] \n",
    "\n",
    "for row in data:\n",
    "    for i, score in enumerate(row):\n",
    "        diem_hp[i].append(score)\n",
    "\n",
    "print(\"Điểm của học phần 1:\", diem_hp[0])\n",
    "print(\"Điểm của học phần 2:\", diem_hp[1])\n",
    "print(\"Điểm của học phần 3:\", diem_hp[2])\n",
    "\n"
   ]
  },
  {
   "cell_type": "code",
   "execution_count": 4,
   "metadata": {},
   "outputs": [
    {
     "name": "stdout",
     "output_type": "stream",
     "text": [
      "Học phần 1: Tổng = 154.93, Trung bình = 5.16, Độ lệch chuẩn = 2.41\n",
      "Học phần 2: Tổng = 170.27, Trung bình = 5.68, Độ lệch chuẩn = 2.25\n",
      "Học phần 3: Tổng = 188.78, Trung bình = 6.29, Độ lệch chuẩn = 1.81\n"
     ]
    }
   ],
   "source": [
    "import numpy as np\n",
    "\n",
    "for i, scores in enumerate(diem_hp):\n",
    "    tong = np.sum(scores)\n",
    "    trung_binh = np.mean(scores)\n",
    "    do_lech_chuan = np.std(scores)\n",
    "    print(f\"Học phần {i + 1}: Tổng = {tong:.2f}, Trung bình = {trung_binh:.2f}, Độ lệch chuẩn = {do_lech_chuan:.2f}\")\n"
   ]
  },
  {
   "cell_type": "code",
   "execution_count": 7,
   "metadata": {},
   "outputs": [
    {
     "name": "stdout",
     "output_type": "stream",
     "text": [
      "Điểm F: 36 sinh viên\n",
      "Điểm C+: 6 sinh viên\n",
      "Điểm C: 7 sinh viên\n",
      "Điểm A: 15 sinh viên\n",
      "Điểm D: 10 sinh viên\n",
      "Điểm B: 4 sinh viên\n",
      "Điểm D+: 6 sinh viên\n",
      "Điểm B+: 6 sinh viên\n"
     ]
    }
   ],
   "source": [
    "so_sv={}\n",
    "\n",
    "for row in Diem_da_doi:\n",
    "    for grade in row:\n",
    "        if grade in so_sv:\n",
    "            so_sv[grade]+=1  \n",
    "        else:\n",
    "            so_sv[grade]=1\n",
    "for grade, count in so_sv.items():\n",
    "    print(f\"Điểm {grade}: {count} sinh viên\")"
   ]
  }
 ],
 "metadata": {
  "kernelspec": {
   "display_name": "base",
   "language": "python",
   "name": "python3"
  },
  "language_info": {
   "codemirror_mode": {
    "name": "ipython",
    "version": 3
   },
   "file_extension": ".py",
   "mimetype": "text/x-python",
   "name": "python",
   "nbconvert_exporter": "python",
   "pygments_lexer": "ipython3",
   "version": "3.12.4"
  }
 },
 "nbformat": 4,
 "nbformat_minor": 2
}
